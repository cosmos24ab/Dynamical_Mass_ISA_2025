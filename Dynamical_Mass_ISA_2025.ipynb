{
 "cells": [
  {
   "cell_type": "markdown",
   "metadata": {},
   "source": [
    "# 🛰️ Project - 2: Estimating the Dynamical Mass of a Galaxy Cluster\n",
    "## Avik Banerjee \n",
    "#### Email: avik2020.phys@gmail.com"
   ]
  },
  {
   "cell_type": "markdown",
   "metadata": {},
   "source": [
    "### Step 1: Importing Necessary Libraries\n",
    "We begin by importing Python libraries commonly used in data analysis and visualization:\n",
    "- `numpy` for numerical operations\n",
    "- `matplotlib.pyplot` for plotting graphs\n",
    "- `pandas` (commented out here) for handling CSV data, which is especially useful for tabular data such as redshift catalogs\n",
    "\n"
   ]
  },
  {
   "cell_type": "markdown",
   "metadata": {},
   "source": [
    "For reading big csv files, one can use numpy as well as \"pandas\". We may use pandas to read CSV file. "
   ]
  },
  {
   "cell_type": "code",
   "execution_count": 31,
   "metadata": {},
   "outputs": [],
   "source": [
    "# Importing necessary libraries\n",
    "import numpy as np\n",
    "import matplotlib.pyplot as plt\n",
    "import pandas as pd\n",
    "from astropy.constants import G, c\n",
    "from astropy.cosmology import Planck18 as cosmo\n",
    "import astropy.units as u\n",
    "from astropy.constants import c\n",
    "import astropy.constants as const"
   ]
  },
  {
   "cell_type": "markdown",
   "metadata": {},
   "source": [
    "\n",
    "Before we begin calculations, we define key physical constants used throughout:\n",
    "\n",
    "- $ H_0 $: Hubble constant, describes the expansion rate of the Universe.\n",
    "- $c$ : Speed of light.\n",
    "-  $G$: Gravitational constant.\n",
    "- $q_0$ : Deceleration parameter, used for approximate co-moving distance calculations.\n",
    "\n",
    "We will use **`astropy.constants`** to ensure unit consistency and precision."
   ]
  },
  {
   "cell_type": "code",
   "execution_count": 32,
   "metadata": {},
   "outputs": [],
   "source": [
    "# Constants\n",
    "H_0 = 67 * u.km / u.s / u.Mpc  # Now H_0 is an Astropy Quantity\n",
    "c_val = c.to(u.m / u.s).value  # Speed of light in m/s\n",
    "G_val = G.to(u.pc * u.kg**-1 * u.m**2 * u.s**-2).value  # Gravitational constant\n",
    "q0 = -0.534  # Deceleration parameter\n",
    "c_si = c.value  # Speed of light in m/s\n",
    "H0_si = H_0.to(1/u.s).value"
   ]
  },
  {
   "cell_type": "markdown",
   "metadata": {},
   "source": [
    "We use pandas to read the csv data into the python using the method explained below."
   ]
  },
  {
   "cell_type": "code",
   "execution_count": 33,
   "metadata": {},
   "outputs": [
    {
     "name": "stdout",
     "output_type": "stream",
     "text": [
      "Index(['objid', 'ra', 'dec', 'photoz', 'photozerr', 'specz', 'speczerr',\n",
      "       'proj_sep', 'umag', 'umagerr', 'gmag', 'gmagerr', 'rmag', 'rmagerr',\n",
      "       'obj_type'],\n",
      "      dtype='object')\n"
     ]
    }
   ],
   "source": [
    "# Read CSV data\n",
    "df = pd.read_csv(r'C:\\Users\\COSMOS\\Downloads\\Skyserver_SQL6_16_2025 1_00_13 PM.csv',comment='#')\n",
    "print(df.columns)"
   ]
  },
  {
   "cell_type": "code",
   "execution_count": 34,
   "metadata": {},
   "outputs": [
    {
     "name": "stdout",
     "output_type": "stream",
     "text": [
      "                 objid         ra        dec    photoz  photozerr     specz  \\\n",
      "0  1237671768542478711  257.82458  64.133257  0.079193   0.022867  0.082447   \n",
      "1  1237671768542478711  257.82458  64.133257  0.079193   0.022867  0.082466   \n",
      "2  1237671768542478713  257.83332  64.126043  0.091507   0.014511  0.081218   \n",
      "3  1237671768542544090  257.85137  64.173247  0.081102   0.009898  0.079561   \n",
      "4  1237671768542544090  257.85137  64.173247  0.081102   0.009898  0.079568   \n",
      "\n",
      "   speczerr  proj_sep      umag   umagerr      gmag   gmagerr      rmag  \\\n",
      "0  0.000017  8.347733  18.96488  0.043377  17.49815  0.005672  16.75003   \n",
      "1  0.000014  8.347733  18.96488  0.043377  17.49815  0.005672  16.75003   \n",
      "2  0.000021  8.011259  20.22848  0.072019  18.38334  0.007763  17.46793   \n",
      "3  0.000022  8.739276  19.21829  0.050135  17.18970  0.004936  16.22043   \n",
      "4  0.000019  8.739276  19.21829  0.050135  17.18970  0.004936  16.22043   \n",
      "\n",
      "    rmagerr  obj_type  \n",
      "0  0.004708         3  \n",
      "1  0.004708         3  \n",
      "2  0.005828         3  \n",
      "3  0.003769         3  \n",
      "4  0.003769         3  \n"
     ]
    }
   ],
   "source": [
    "print(df.head())"
   ]
  },
  {
   "cell_type": "markdown",
   "metadata": {},
   "source": [
    "### 📊 Calculating the Average Spectroscopic Redshift (`specz`) for Each Object\n",
    "\n",
    "When working with astronomical catalogs, an object (identified by a unique `objid`) might have multiple entries — for example, due to repeated observations. To reduce this to a single row per object, we aggregate the data using the following strategy:\n",
    "\n",
    "```python\n",
    "averaged_df = df.groupby('objid').agg({\n",
    "    'specz': 'mean',        # Take the mean of all spec-z values for that object\n",
    "    'ra': 'first',          # Use the first RA value (assumed constant for the object)\n",
    "    'dec': 'first',         # Use the first Dec value (same reason as above)\n",
    "    'proj_sep': 'first'     # Use the first projected separation value\n",
    "}).reset_index()\n"
   ]
  },
  {
   "cell_type": "code",
   "execution_count": 35,
   "metadata": {},
   "outputs": [],
   "source": [
    "# Step 3: Calculate the Average Spectroscopic Redshift (specz) for Each Object\n",
    "averaged_df = df.groupby('objid').agg({\n",
    "    'specz': 'mean',        # Mean of all spec-z values for that object\n",
    "    'ra': 'first',          # First RA value\n",
    "    'dec': 'first',         # First Dec value\n",
    "    'proj_sep': 'first'     # First projected separation value\n",
    "}).reset_index()"
   ]
  },
  {
   "cell_type": "markdown",
   "metadata": {},
   "source": [
    "To create a cut in the redshift so that a cluster can be identified. We must use some logic. Most astronomers prefer anything beyond 3*sigma away from the mean to be not part of the same group. \n",
    "\n",
    "Find the mean, standard deviation and limits of the redshift from the data. "
   ]
  },
  {
   "cell_type": "code",
   "execution_count": 36,
   "metadata": {},
   "outputs": [
    {
     "name": "stdout",
     "output_type": "stream",
     "text": [
      "Mean Spectroscopic Redshift: 0.08104694625899282\n",
      "Standard Deviation of Spectroscopic Redshift: 0.009497709534680291\n",
      "Lower Limit: 0.05255381765495195\n",
      "Upper Limit: 0.10954007486303369\n"
     ]
    }
   ],
   "source": [
    "# Ensure the column 'specz' contains numeric values\n",
    "df['specz'] = pd.to_numeric(df['specz'], errors='coerce')\n",
    "\n",
    "# Calculate the mean and standard deviation of the 'specz' column\n",
    "mean_specz = df['specz'].mean()\n",
    "std_specz = df['specz'].std()\n",
    "\n",
    "# Define the 3-sigma limits\n",
    "lower_limit = mean_specz - 3 * std_specz\n",
    "upper_limit = mean_specz + 3 * std_specz\n",
    "\n",
    "# Output the results\n",
    "print(f\"Mean Spectroscopic Redshift: {mean_specz}\")\n",
    "print(f\"Standard Deviation of Spectroscopic Redshift: {std_specz}\")\n",
    "print(f\"Lower Limit: {lower_limit}\")\n",
    "print(f\"Upper Limit: {upper_limit}\")"
   ]
  },
  {
   "cell_type": "markdown",
   "metadata": {},
   "source": [
    "We may also use boxplot to visualize the overall values of redshift."
   ]
  },
  {
   "cell_type": "code",
   "execution_count": 37,
   "metadata": {},
   "outputs": [
    {
     "data": {
      "image/png": "[encoded data removed]",
      "text/plain": [
       "<Figure size 1000x400 with 2 Axes>"
      ]
     },
     "metadata": {},
     "output_type": "display_data"
    }
   ],
   "source": [
    "plt.figure(figsize=(10, 4))\n",
    "\n",
    "plt.subplot(1, 2, 1)\n",
    "plt.hist(averaged_df['specz'], bins=90, color='skyblue', edgecolor='black')\n",
    "plt.title(\"Distribution of Redshift\")\n",
    "plt.xlabel(\"Redshift (specz)\")\n",
    "plt.ylabel(\"Number of Objects\")\n",
    "plt.grid(axis='y', linestyle='--', alpha=0.7)\n",
    "\n",
    "plt.subplot(1, 2, 2)\n",
    "box = plt.boxplot(averaged_df['specz'], vert=False, patch_artist=True,\n",
    "                  flierprops=dict(marker='o', markerfacecolor='red', markersize=6, linestyle='none'))\n",
    "for patch in box['boxes']:\n",
    "    patch.set_facecolor('#90caf9')\n",
    "mean_value = averaged_df['specz'].mean()\n",
    "plt.axvline(mean_value, color='red', linestyle='--', label='Mean')\n",
    "plt.title(\"Boxplot of Redshift\")\n",
    "plt.xlabel(\"Redshift (specz)\")\n",
    "plt.grid(axis='x', linestyle='--', alpha=0.7)\n",
    "plt.legend()\n",
    "plt.tight_layout()\n",
    "plt.show()"
   ]
  },
  {
   "cell_type": "markdown",
   "metadata": {},
   "source": [
    "But the best plot would be a histogram to see where most of the objects downloaded lie in terms of redshift value."
   ]
  },
  {
   "cell_type": "code",
   "execution_count": 38,
   "metadata": {},
   "outputs": [
    {
     "name": "stderr",
     "output_type": "stream",
     "text": [
      "C:\\Users\\COSMOS\\AppData\\Local\\Temp\\ipykernel_15580\\788441888.py:10: SettingWithCopyWarning: \n",
      "A value is trying to be set on a copy of a slice from a DataFrame.\n",
      "Try using .loc[row_indexer,col_indexer] = value instead\n",
      "\n",
      "See the caveats in the documentation: https://pandas.pydata.org/pandas-docs/stable/user_guide/indexing.html#returning-a-view-versus-a-copy\n",
      "  filtered_df['velocity'] = filtered_df['specz'] * c_si / 1000  # in km/s\n"
     ]
    },
    {
     "data": {
      "image/png": "[encoded data removed]",
      "text/plain": [
       "<Figure size 640x480 with 1 Axes>"
      ]
     },
     "metadata": {},
     "output_type": "display_data"
    }
   ],
   "source": [
    "# Step 5: Filter data based on the 3-sigma limit of redshift\n",
    "mean_specz = averaged_df['specz'].mean()\n",
    "std_specz = averaged_df['specz'].std()\n",
    "lower_limit = mean_specz - 3 * std_specz\n",
    "upper_limit = mean_specz + 3 * std_specz\n",
    "\n",
    "filtered_df = averaged_df[(averaged_df['specz'] >= lower_limit) & (averaged_df['specz'] <= upper_limit)]\n",
    "\n",
    "# Step 6: Add velocity column using v = c * z (for small z)\n",
    "filtered_df['velocity'] = filtered_df['specz'] * c_si / 1000  # in km/s\n",
    "\n",
    "# Plot the velocity distribution\n",
    "plt.hist(filtered_df['velocity'], bins=50, color='orange', edgecolor='black')\n",
    "plt.title(\"Velocity Distribution\")\n",
    "plt.xlabel(\"Velocity (km/s)\")\n",
    "plt.ylabel(\"Number of Objects\")\n",
    "plt.grid()\n",
    "plt.show()"
   ]
  },
  {
   "cell_type": "markdown",
   "metadata": {},
   "source": [
    "Filter your data based on the 3-sigma limit of redshift. You should remove all data points which are 3-sigma away from mean of redshift."
   ]
  },
  {
   "cell_type": "code",
   "execution_count": 39,
   "metadata": {},
   "outputs": [
    {
     "name": "stdout",
     "output_type": "stream",
     "text": [
      "Original Count: 92\n",
      "Filtered Count: 91\n",
      "Lower Limit of Redshift: 0.05510478390326903\n",
      "Upper Limit of Redshift: 0.10657046740107884\n"
     ]
    }
   ],
   "source": [
    "# Calculate the average spectroscopic redshift (specz) for each object\n",
    "averaged_df = df.groupby('objid').agg({\n",
    "    'specz': 'mean',        # Mean of all spec-z values for that object\n",
    "    'ra': 'first',          # First RA value\n",
    "    'dec': 'first',         # First Dec value\n",
    "    'proj_sep': 'first'     # First projected separation value\n",
    "}).reset_index()\n",
    "\n",
    "# Calculate mean and standard deviation for redshift (specz)\n",
    "mean_specz = averaged_df['specz'].mean()\n",
    "std_specz = averaged_df['specz'].std()\n",
    "\n",
    "# Define 3-sigma limits\n",
    "lower_limit = mean_specz - 3 * std_specz\n",
    "upper_limit = mean_specz + 3 * std_specz\n",
    "\n",
    "# Filter the data to exclude outliers\n",
    "filtered_df = averaged_df[(averaged_df['specz'] >= lower_limit) & (averaged_df['specz'] <= upper_limit)]\n",
    "\n",
    "# Display the number of objects before and after filtering\n",
    "original_count = len(averaged_df)\n",
    "filtered_count = len(filtered_df)\n",
    "\n",
    "print(f\"Original Count: {original_count}\")\n",
    "print(f\"Filtered Count: {filtered_count}\")\n",
    "print(f\"Lower Limit of Redshift: {lower_limit}\")\n",
    "print(f\"Upper Limit of Redshift: {upper_limit}\")"
   ]
  },
  {
   "cell_type": "markdown",
   "metadata": {},
   "source": [
    "We may use the relation between redshift and velocity to add a column named velocity in the data. This would tell the expansion velocity at that redshift. "
   ]
  },
  {
   "cell_type": "code",
   "execution_count": 40,
   "metadata": {},
   "outputs": [
    {
     "name": "stdout",
     "output_type": "stream",
     "text": [
      "      specz      velocity\n",
      "0  0.082457  23703.959988\n",
      "1  0.081218  23362.893831\n",
      "2  0.079564  22906.662584\n",
      "3  0.080842  23259.086161\n",
      "4  0.084575  24286.386423\n"
     ]
    },
    {
     "name": "stderr",
     "output_type": "stream",
     "text": [
      "C:\\Users\\COSMOS\\AppData\\Local\\Temp\\ipykernel_15580\\3990564981.py:4: SettingWithCopyWarning: \n",
      "A value is trying to be set on a copy of a slice from a DataFrame.\n",
      "Try using .loc[row_indexer,col_indexer] = value instead\n",
      "\n",
      "See the caveats in the documentation: https://pandas.pydata.org/pandas-docs/stable/user_guide/indexing.html#returning-a-view-versus-a-copy\n",
      "  filtered_df['velocity'] = c * ((1 + filtered_df['specz'])**2 - 1) / ((1 + filtered_df['specz'])**2 + 1)\n"
     ]
    }
   ],
   "source": [
    "# Speed of light in km/s\n",
    "c = 299792.458\n",
    "\n",
    "filtered_df['velocity'] = c * ((1 + filtered_df['specz'])**2 - 1) / ((1 + filtered_df['specz'])**2 + 1)\n",
    "\n",
    "\n",
    "# Show the first few rows with new column\n",
    "print(filtered_df[['specz', 'velocity']].head())"
   ]
  },
  {
   "cell_type": "code",
   "execution_count": 41,
   "metadata": {},
   "outputs": [
    {
     "data": {
      "image/png": "[encoded data removed]",
      "text/plain": [
       "<Figure size 800x500 with 1 Axes>"
      ]
     },
     "metadata": {},
     "output_type": "display_data"
    }
   ],
   "source": [
    "#plot the velocity column created as hist\n",
    "import matplotlib.pyplot as plt\n",
    "plt.figure(figsize=(8, 5))\n",
    "plt.hist(filtered_df['velocity'], bins=30, color='skyblue', edgecolor='black')\n",
    "\n",
    "plt.title('Histogram of Recession Velocity')\n",
    "plt.xlabel('Velocity (km/s)')\n",
    "plt.ylabel('Number of Galaxies')\n",
    "plt.grid(True)\n",
    "plt.tight_layout()\n",
    "plt.show()"
   ]
  },
  {
   "cell_type": "markdown",
   "metadata": {},
   "source": [
    "We may use the dispersion equation to find something called velocity dispersion. We refer to wikipedia to know about the term Wikipedia link [here](https://en.wikipedia.org/wiki/Velocity_dispersion#:~:text=In%20astronomy%2C%20the%20velocity%20dispersion,%2C%20galaxy%20cluster%2C%20or%20supercluster.).\n",
    "\n",
    "It is the velocity dispersion value which tells us, some galaxies might be part of even larger groups!!!"
   ]
  },
  {
   "cell_type": "markdown",
   "metadata": {},
   "source": [
    "### Step 2: Calculate Mean Redshift of the Cluster\n",
    "We calculate the average redshift (`specz`) of galaxies that belong to a cluster. This gives us an estimate of the cluster's systemic redshift.\n",
    "\n",
    "`cluster_redshift = filtered_df['specz'].mean()`\n"
   ]
  },
  {
   "cell_type": "markdown",
   "metadata": {},
   "source": [
    "The velocity dispersion \\( v \\) of galaxies relative to the cluster mean redshift is computed using the relativistic Doppler formula:\n",
    "\n",
    "$$\n",
    "v = c \\cdot \\frac{(1 + z)^2 - (1 + z_{\\text{cluster}})^2}{(1 + z)^2 + (1 + z_{\\text{cluster}})^2}\n",
    "$$\n",
    "where:\n",
    "- \\( v \\) is the relative velocity (dispersion),\n",
    "- \\( z \\) is the redshift of the individual galaxy,\n",
    "- \\( $z_{\\text{cluster}}$ \\) is the mean cluster redshift,\n",
    "- \\( c \\) is the speed of light.\n"
   ]
  },
  {
   "cell_type": "code",
   "execution_count": 42,
   "metadata": {},
   "outputs": [
    {
     "name": "stdout",
     "output_type": "stream",
     "text": [
      "      specz  v_dispersion\n",
      "0  0.082457    662.365302\n",
      "1  0.081218    319.185348\n",
      "2  0.079564   -139.779039\n",
      "3  0.080842    214.746305\n",
      "4  0.084575   1248.541035\n"
     ]
    },
    {
     "name": "stderr",
     "output_type": "stream",
     "text": [
      "C:\\Users\\COSMOS\\AppData\\Local\\Temp\\ipykernel_15580\\2883980696.py:8: SettingWithCopyWarning: \n",
      "A value is trying to be set on a copy of a slice from a DataFrame.\n",
      "Try using .loc[row_indexer,col_indexer] = value instead\n",
      "\n",
      "See the caveats in the documentation: https://pandas.pydata.org/pandas-docs/stable/user_guide/indexing.html#returning-a-view-versus-a-copy\n",
      "  filtered_df['v_dispersion'] = c * (\n"
     ]
    }
   ],
   "source": [
    "# Speed of light in km/s\n",
    "c = 299792.458\n",
    "\n",
    "# Compute the mean redshift of the cluster (using filtered data)\n",
    "z_cluster = filtered_df['specz'].mean()\n",
    "\n",
    "# Apply the relativistic Doppler formula for velocity dispersion\n",
    "filtered_df['v_dispersion'] = c * (\n",
    "    ((1 + filtered_df['specz'])**2 - (1 + z_cluster)**2) /\n",
    "    ((1 + filtered_df['specz'])**2 + (1 + z_cluster)**2)\n",
    ")\n",
    "\n",
    "# Show first few values\n",
    "print(filtered_df[['specz', 'v_dispersion']].head())"
   ]
  },
  {
   "cell_type": "markdown",
   "metadata": {},
   "source": [
    "Pro tip: One may check what the describe function of pandas does. Does it help to get quick look stats for your column of dispersion?"
   ]
  },
  {
   "cell_type": "code",
   "execution_count": 43,
   "metadata": {},
   "outputs": [
    {
     "name": "stdout",
     "output_type": "stream",
     "text": [
      "The value of the cluster redshift = 0.0801\n",
      "The characteristic value of velocity dispersion of the cluster along the line of sight = 1211.8694 km/s.\n"
     ]
    }
   ],
   "source": [
    "# Step 7: Calculate velocity dispersion (sigma_v)\n",
    "cluster_redshift = filtered_df['specz'].mean()\n",
    "# Relativistic Doppler formula for velocity dispersion\n",
    "disp = np.std(\n",
    "    c_si * (filtered_df['specz'] - cluster_redshift) / (1 + cluster_redshift)\n",
    ") / 1000  # km/s\n",
    "\n",
    "print(f\"The value of the cluster redshift = {cluster_redshift:.4f}\")\n",
    "print(f\"The characteristic value of velocity dispersion of the cluster along the line of sight = {disp:.4f} km/s.\")"
   ]
  },
  {
   "cell_type": "markdown",
   "metadata": {},
   "source": [
    "### Step 4: Visualizing Angular Separation of Galaxies\n",
    "We plot a histogram of the projected (angular) separation of galaxies from the cluster center. This helps us understand the spatial distribution of galaxies within the cluster field.\n",
    "\n",
    "- The x-axis represents the angular separation (in arcminutes or degrees, depending on units).\n",
    "- The y-axis shows the number of galaxies at each separation bin.\n",
    "\n"
   ]
  },
  {
   "cell_type": "code",
   "execution_count": 44,
   "metadata": {},
   "outputs": [
    {
     "data": {
      "image/png": "[encoded data removed]",
      "text/plain": [
       "<Figure size 640x480 with 1 Axes>"
      ]
     },
     "metadata": {},
     "output_type": "display_data"
    }
   ],
   "source": [
    "# Step 8: Visualize projected separation\n",
    "plt.hist(filtered_df['proj_sep'], bins=40, color='green', edgecolor='black')\n",
    "plt.title(\"Projected Angular Separation\")\n",
    "plt.xlabel(\"Projected Separation (arcmin or deg)\")\n",
    "plt.ylabel(\"Number of Galaxies\")\n",
    "plt.grid()\n",
    "plt.show()"
   ]
  },
  {
   "cell_type": "markdown",
   "metadata": {},
   "source": [
    "### Determining size and mass of the cluster:"
   ]
  },
  {
   "cell_type": "markdown",
   "metadata": {},
   "source": [
    "### Step 5: Estimating Physical Diameter of the Cluster\n",
    "We now estimate the **physical diameter** of the galaxy cluster using cosmological parameters.\n",
    "\n",
    "- `r` is the **co-moving distance**, approximated using a Taylor expansion for low redshift:\n",
    "  $$\n",
    "  r = \\frac{cz}{H_0} \\left(1 - \\frac{z}{2}(1 + q_0)\\right)\n",
    "  $$\n",
    "  where $q_0$ is the deceleration parameter\n",
    "- `ra` is the **angular diameter distance**, given by:\n",
    "  $$\n",
    "  D_A = \\frac{r}{1 + z}\n",
    "  $$\n",
    "- Finally, we convert the observed angular diameter (in arcminutes) into physical size using:\n",
    "  $$\n",
    "  \\text{diameter (in Mpc)} = D_A \\cdot \\theta\n",
    "  $$\n",
    "  where $ \\theta $ is the angular size in radians, converted from arcminutes.\n",
    "\n",
    "> This gives us a rough estimate of the cluster's size in megaparsecs (Mpc), assuming a flat ΛCDM cosmology.\n"
   ]
  },
  {
   "cell_type": "code",
   "execution_count": 45,
   "metadata": {},
   "outputs": [
    {
     "name": "stdout",
     "output_type": "stream",
     "text": [
      "Estimated physical diameter of the cluster: 0.93 Mpc\n"
     ]
    }
   ],
   "source": [
    "# Step 9: Estimate the physical diameter of the cluster\n",
    "# Co-moving distance (approximation for low z)\n",
    "z = cluster_redshift\n",
    "H0_si = H_0.to(u.s**-1).value  # Convert H_0 to SI (1/s)\n",
    "r = (c_si / H0_si) * (z - (1 + q0) * z**2 / 2)  # in meters\n",
    "\n",
    "# Angular diameter distance\n",
    "ra = r / (1 + z)  # in meters\n",
    "\n",
    "# Convert projected separation from arcminutes to radians\n",
    "# Assuming proj_sep is in arcminutes; adjust if in degrees\n",
    "max_proj_sep_arcmin = filtered_df['proj_sep'].max()\n",
    "theta_rad = max_proj_sep_arcmin * (np.pi / 180) / 60  # arcmin to radians\n",
    "\n",
    "diameter = ra * theta_rad  # in meters\n",
    "diameter_mpc = diameter / (3.086e22)  # meters to Mpc\n",
    "\n",
    "print(f\"Estimated physical diameter of the cluster: {diameter_mpc:.2f} Mpc\")"
   ]
  },
  {
   "cell_type": "markdown",
   "metadata": {},
   "source": [
    "### Step 6: Calculating the Dynamical Mass of the Cluster\n",
    "We now estimate the **dynamical mass** of the galaxy cluster using the virial theorem:\n",
    "\n",
    "$$\n",
    "M_{\\text{dyn}} = \\frac{3 \\sigma^2 R}{G}\n",
    "$$\n",
    "\n",
    "Where:\n",
    "- $ \\sigma $ is the **velocity dispersion** in m/s (`disp * 1000`),\n",
    "- $ R $ is the **cluster radius** in meters (half the physical diameter converted to meters),\n",
    "- $ G $ is the **gravitational constant** in SI units,\n",
    "- The factor of 3 assumes an isotropic velocity distribution (common in virial estimates).\n",
    "\n",
    "We convert the final result into **solar masses** by dividing by $ 2 \\times 10^{30} \\, \\text{kg} $.\n",
    "\n",
    "> This mass estimate assumes the cluster is in dynamical equilibrium and bound by gravity.\n"
   ]
  },
  {
   "cell_type": "code",
   "execution_count": 46,
   "metadata": {},
   "outputs": [
    {
     "name": "stdout",
     "output_type": "stream",
     "text": [
      "Dynamical Mass of the cluster is 4.75e+14 solar mass\n"
     ]
    }
   ],
   "source": [
    "# Step 10: Calculate the dynamical mass of the cluster\n",
    "# Use the virial theorem: M = 3 * (sigma_v^2) * (R) / G\n",
    "# disp in km/s, convert to m/s; diameter in Mpc, convert to meters\n",
    "G_si = G.value  # This gives 6.6743e-11 in m^3 kg^-1 s^-2\n",
    "disp_m_s = disp * 1000\n",
    "radius_m = (diameter / 2)\n",
    "M_dyn = 3 * (disp_m_s**2) * radius_m / G_si  # in kg\n",
    "M_dyn_solar = M_dyn / (2e30)  # 1 solar mass ≈ 2e30 kg\n",
    "\n",
    "print(f\"Dynamical Mass of the cluster is {M_dyn_solar:.2e} solar mass\")"
   ]
  },
  {
   "cell_type": "markdown",
   "metadata": {},
   "source": [
    "## ✔ Answers to Assignment Questions"
   ]
  },
  {
   "cell_type": "markdown",
   "metadata": {},
   "source": [
    "#### 1. Identify galaxies that you think are members of a cluster. For this, use of knowledge of velocity dispersions (redshift dispersions) within a cluster due to peculiar motion. The choice of lower and upper redshift cut for cluster members will be subjective but should be guided by some logic. \n",
    "**Answer:** Galaxies that belong to a cluster are physically close in space and thus have similar redshifts, with slight variations caused by their **peculiar velocities** within the cluster. These variations result in a small **redshift dispersion** around the cluster's central redshift. Typically, this dispersion corresponds to velocities of a few hundred to a thousand km/s, translating to a redshift spread of about **±0.003 to ±0.005**.\n",
    "\n",
    "**Example:**  \n",
    "Suppose we observe a peak in the redshift distribution around *z ≈ 0.82* in our dataset. This suggests a concentration of galaxies at that redshift — likely a cluster. Based on expected velocity dispersion, we select galaxies within the redshift range **z = 0.0.815 to 0.825** as probable cluster members. This window includes galaxies whose small redshift differences are due to motion within the cluster, not cosmic distance.\n",
    "\n",
    "By selecting galaxies in this narrow redshift range around the peak, we isolate the galaxies that are likely bound to the cluster, filtering out foreground and background galaxies.\n",
    "\n",
    "The redshift distribution plot used to identify this peak is shown below:\n"
   ]
  },
  {
   "cell_type": "code",
   "execution_count": 47,
   "metadata": {},
   "outputs": [
    {
     "data": {
      "image/png": "[encoded data removed]",
      "text/plain": [
       "<Figure size 640x480 with 1 Axes>"
      ]
     },
     "metadata": {},
     "output_type": "display_data"
    }
   ],
   "source": [
    "import numpy as np\n",
    "import matplotlib.pyplot as plt\n",
    "import pandas as pd\n",
    "\n",
    "df = pd.read_csv(r'C:\\Users\\COSMOS\\Downloads\\Skyserver_SQL6_16_2025 1_00_13 PM.csv',comment='#')  # Your SQL result as CSV\n",
    "specz = df['specz']\n",
    "\n",
    "plt.hist(specz, bins=50, color='skyblue')\n",
    "plt.xlabel('Redshift (z)')\n",
    "plt.ylabel('Number of Galaxies')\n",
    "plt.title('Redshift Distribution')\n",
    "plt.axvline(0.115, color='r', linestyle='--')  # Example cluster redshift\n",
    "plt.show()\n",
    "\n",
    "# Select cluster members (example range)\n",
    "z_cluster = 0.115\n",
    "zmin, zmax = z_cluster - 0.005, z_cluster + 0.005\n",
    "cluster_members = df[(specz > zmin) & (specz < zmax)]\n"
   ]
  },
  {
   "cell_type": "markdown",
   "metadata": {},
   "source": [
    "#### 2. After the required analysis of the table of data, determine the cluster redshift, and obtain an estimate for the characteristic velocity dispersion of galaxies that belong to the cluster in units of km/s \n",
    "**Answer:** The value of the cluster redshift = **0.0801**.\n",
    "\n",
    "The characteristic velocity dispersion of galaxies that belong to the cluster = **1211.8694 km/s**.\n",
    "\n",
    "#### 3.  Estimate the characteristic size of the cluster in Mpc. \n",
    "**Answer:** The Estimated physical diameter of the cluster: **0.93 Mpc**.\n",
    "\n",
    "#### 4. Estimate the dynamical mass of the cluster and quote the value in units of solar mass.\n",
    "**Answer:** The Dynamical Mass of the cluster is $4.75 \\times 10^{14}$ solar mass.\n"
   ]
  },
  {
   "cell_type": "markdown",
   "metadata": {},
   "source": [
    "#### 5. Is the estimate of dynamical mass consistent with what is expected from the luminous mass? If not, explain with the support of numbers the inconsistency. \n",
    "**Answer:** To estimate the **luminous mass** of the galaxy cluster, we first calculate the **absolute magnitude** of each galaxy using:\n",
    "\n",
    "$$\n",
    "M_r = m_r - 5 \\log_{10} \\left( \\frac{d_L}{10\\, \\text{pc}} \\right)\n",
    "$$\n",
    "\n",
    "where:\n",
    "- $M_r$ is the absolute r-band magnitude,\n",
    "- $m_r$ is the apparent r-band magnitude (from SDSS data),\n",
    "- $d_L$ is the luminosity distance corresponding to the cluster redshift.\n",
    "\n",
    "Next, we estimate the **luminosity** of each galaxy (relative to the Sun) using:\n",
    "\n",
    "$$\n",
    "L = 10^{-0.4(M_r - M_{r,\\odot})}\n",
    "$$\n",
    "\n",
    "Assuming the Sun’s absolute r-band magnitude is $M_{r,\\odot} \\approx 4.65$, we compute the luminosity of each galaxy in solar units.\n",
    "\n",
    "The **total luminosity** of the cluster is then the sum of all individual galaxy luminosities:\n",
    "\n",
    "$$\n",
    "L_{\\text{total}} = \\sum_i L_i\n",
    "$$\n",
    "\n",
    "Assuming a typical **mass-to-light ratio** of $M/L \\approx 5$, the **luminous mass** of the cluster is estimated as:\n",
    "\n",
    "$$\n",
    "M_{\\text{lum}} = 5 \\times L_{\\text{total}}\n",
    "$$\n",
    "\n",
    "This provides an estimate of the total stellar (baryonic) mass in the cluster, which can be compared to the dynamical mass to assess the presence of dark matter.\n",
    "\n"
   ]
  },
  {
   "cell_type": "code",
   "execution_count": 48,
   "metadata": {},
   "outputs": [
    {
     "data": {
      "text/html": [
       "<div>\n",
       "<style scoped>\n",
       "    .dataframe tbody tr th:only-of-type {\n",
       "        vertical-align: middle;\n",
       "    }\n",
       "\n",
       "    .dataframe tbody tr th {\n",
       "        vertical-align: top;\n",
       "    }\n",
       "\n",
       "    .dataframe thead th {\n",
       "        text-align: right;\n",
       "    }\n",
       "</style>\n",
       "<table border=\"1\" class=\"dataframe\">\n",
       "  <thead>\n",
       "    <tr style=\"text-align: right;\">\n",
       "      <th></th>\n",
       "      <th>objid</th>\n",
       "      <th>ra</th>\n",
       "      <th>dec</th>\n",
       "      <th>photoz</th>\n",
       "      <th>photozerr</th>\n",
       "      <th>specz</th>\n",
       "      <th>speczerr</th>\n",
       "      <th>proj_sep</th>\n",
       "      <th>umag</th>\n",
       "      <th>umagerr</th>\n",
       "      <th>gmag</th>\n",
       "      <th>gmagerr</th>\n",
       "      <th>rmag</th>\n",
       "      <th>rmagerr</th>\n",
       "      <th>obj_type</th>\n",
       "    </tr>\n",
       "  </thead>\n",
       "  <tbody>\n",
       "    <tr>\n",
       "      <th>0</th>\n",
       "      <td>1237671768542478711</td>\n",
       "      <td>257.82458</td>\n",
       "      <td>64.133257</td>\n",
       "      <td>0.079193</td>\n",
       "      <td>0.022867</td>\n",
       "      <td>0.082447</td>\n",
       "      <td>0.000017</td>\n",
       "      <td>8.347733</td>\n",
       "      <td>18.96488</td>\n",
       "      <td>0.043377</td>\n",
       "      <td>17.49815</td>\n",
       "      <td>0.005672</td>\n",
       "      <td>16.75003</td>\n",
       "      <td>0.004708</td>\n",
       "      <td>3</td>\n",
       "    </tr>\n",
       "    <tr>\n",
       "      <th>1</th>\n",
       "      <td>1237671768542478711</td>\n",
       "      <td>257.82458</td>\n",
       "      <td>64.133257</td>\n",
       "      <td>0.079193</td>\n",
       "      <td>0.022867</td>\n",
       "      <td>0.082466</td>\n",
       "      <td>0.000014</td>\n",
       "      <td>8.347733</td>\n",
       "      <td>18.96488</td>\n",
       "      <td>0.043377</td>\n",
       "      <td>17.49815</td>\n",
       "      <td>0.005672</td>\n",
       "      <td>16.75003</td>\n",
       "      <td>0.004708</td>\n",
       "      <td>3</td>\n",
       "    </tr>\n",
       "    <tr>\n",
       "      <th>2</th>\n",
       "      <td>1237671768542478713</td>\n",
       "      <td>257.83332</td>\n",
       "      <td>64.126043</td>\n",
       "      <td>0.091507</td>\n",
       "      <td>0.014511</td>\n",
       "      <td>0.081218</td>\n",
       "      <td>0.000021</td>\n",
       "      <td>8.011259</td>\n",
       "      <td>20.22848</td>\n",
       "      <td>0.072019</td>\n",
       "      <td>18.38334</td>\n",
       "      <td>0.007763</td>\n",
       "      <td>17.46793</td>\n",
       "      <td>0.005828</td>\n",
       "      <td>3</td>\n",
       "    </tr>\n",
       "    <tr>\n",
       "      <th>3</th>\n",
       "      <td>1237671768542544090</td>\n",
       "      <td>257.85137</td>\n",
       "      <td>64.173247</td>\n",
       "      <td>0.081102</td>\n",
       "      <td>0.009898</td>\n",
       "      <td>0.079561</td>\n",
       "      <td>0.000022</td>\n",
       "      <td>8.739276</td>\n",
       "      <td>19.21829</td>\n",
       "      <td>0.050135</td>\n",
       "      <td>17.18970</td>\n",
       "      <td>0.004936</td>\n",
       "      <td>16.22043</td>\n",
       "      <td>0.003769</td>\n",
       "      <td>3</td>\n",
       "    </tr>\n",
       "    <tr>\n",
       "      <th>4</th>\n",
       "      <td>1237671768542544090</td>\n",
       "      <td>257.85137</td>\n",
       "      <td>64.173247</td>\n",
       "      <td>0.081102</td>\n",
       "      <td>0.009898</td>\n",
       "      <td>0.079568</td>\n",
       "      <td>0.000019</td>\n",
       "      <td>8.739276</td>\n",
       "      <td>19.21829</td>\n",
       "      <td>0.050135</td>\n",
       "      <td>17.18970</td>\n",
       "      <td>0.004936</td>\n",
       "      <td>16.22043</td>\n",
       "      <td>0.003769</td>\n",
       "      <td>3</td>\n",
       "    </tr>\n",
       "  </tbody>\n",
       "</table>\n",
       "</div>"
      ],
      "text/plain": [
       "                 objid         ra        dec    photoz  photozerr     specz  \\\n",
       "0  1237671768542478711  257.82458  64.133257  0.079193   0.022867  0.082447   \n",
       "1  1237671768542478711  257.82458  64.133257  0.079193   0.022867  0.082466   \n",
       "2  1237671768542478713  257.83332  64.126043  0.091507   0.014511  0.081218   \n",
       "3  1237671768542544090  257.85137  64.173247  0.081102   0.009898  0.079561   \n",
       "4  1237671768542544090  257.85137  64.173247  0.081102   0.009898  0.079568   \n",
       "\n",
       "   speczerr  proj_sep      umag   umagerr      gmag   gmagerr      rmag  \\\n",
       "0  0.000017  8.347733  18.96488  0.043377  17.49815  0.005672  16.75003   \n",
       "1  0.000014  8.347733  18.96488  0.043377  17.49815  0.005672  16.75003   \n",
       "2  0.000021  8.011259  20.22848  0.072019  18.38334  0.007763  17.46793   \n",
       "3  0.000022  8.739276  19.21829  0.050135  17.18970  0.004936  16.22043   \n",
       "4  0.000019  8.739276  19.21829  0.050135  17.18970  0.004936  16.22043   \n",
       "\n",
       "    rmagerr  obj_type  \n",
       "0  0.004708         3  \n",
       "1  0.004708         3  \n",
       "2  0.005828         3  \n",
       "3  0.003769         3  \n",
       "4  0.003769         3  "
      ]
     },
     "metadata": {},
     "output_type": "display_data"
    },
    {
     "name": "stdout",
     "output_type": "stream",
     "text": [
      "Estimated luminous mass (M/L=5): 1.93e+13 solar mass\n"
     ]
    }
   ],
   "source": [
    "# 1. Import libraries\n",
    "import pandas as pd\n",
    "import numpy as np\n",
    "from astropy.cosmology import Planck18 as cosmo\n",
    "import matplotlib.pyplot as plt\n",
    "\n",
    "# 2. Load your CSV file\n",
    "# Replace 'cluster_galaxies.csv' with your file path if needed\n",
    "df = pd.read_csv(r'C:\\Users\\COSMOS\\Downloads\\Skyserver_SQL6_16_2025 1_00_13 PM.csv',comment='#')\n",
    "\n",
    "# Optional: Display first few rows to check data\n",
    "display(df.head())\n",
    "\n",
    "# 3. Extract r-band magnitudes\n",
    "# Change 'modelMag_r' to your actual r-band magnitude column name if different\n",
    "r_mags = df['rmag'].values\n",
    "\n",
    "# 4. Set cluster parameters\n",
    "z_cluster = 0.0801      # Update this to your cluster's mean redshift if known\n",
    "M_r_sun = 4.65       # Absolute r-band magnitude of the Sun\n",
    "\n",
    "# 5. Compute distance modulus using astropy.cosmology\n",
    "lum_dist = cosmo.luminosity_distance(z_cluster).value  # in Mpc\n",
    "dist_mod = 5 * np.log10(lum_dist * 1e6 / 10)           # Convert Mpc to pc\n",
    "\n",
    "# 6. Convert apparent to absolute magnitudes\n",
    "M_r = r_mags - dist_mod\n",
    "\n",
    "# 7. Compute luminosity of each galaxy in solar units\n",
    "L_r = 10**(-0.4 * (M_r - M_r_sun))\n",
    "total_L_r = np.sum(L_r)\n",
    "\n",
    "# 8. Estimate luminous mass using a mass-to-light ratio (M/L)\n",
    "M_L_ratio = 5   # You can try values between 3 and 10\n",
    "luminous_mass = total_L_r * M_L_ratio  # in solar masses\n",
    "\n",
    "dynamical_mass = 4.75e14  # Example: 1 x 10^14 solar masses\n",
    "# 10. Print results\n",
    "\n",
    "print(f\"Estimated luminous mass (M/L={M_L_ratio}): {luminous_mass:.2e} solar mass\")\n",
    "\n"
   ]
  },
  {
   "cell_type": "markdown",
   "metadata": {},
   "source": [
    "#### We find that dynamical mass >> luminous mass, suggesting dark matter dominates the mass budget.\n"
   ]
  },
  {
   "cell_type": "code",
   "execution_count": null,
   "metadata": {},
   "outputs": [],
   "source": []
  }
 ],
 "metadata": {
  "kernelspec": {
   "display_name": "Python 3 (ipykernel)",
   "language": "python",
   "name": "python3"
  },
  "language_info": {
   "codemirror_mode": {
    "name": "ipython",
    "version": 3
   },
   "file_extension": ".py",
   "mimetype": "text/x-python",
   "name": "python",
   "nbconvert_exporter": "python",
   "pygments_lexer": "ipython3",
   "version": "3.13.1"
  }
 },
 "nbformat": 4,
 "nbformat_minor": 4
}
